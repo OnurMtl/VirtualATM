{
  "nbformat": 4,
  "nbformat_minor": 0,
  "metadata": {
    "colab": {
      "provenance": []
    },
    "kernelspec": {
      "name": "python3",
      "display_name": "Python 3"
    },
    "language_info": {
      "name": "python"
    }
  },
  "cells": [
    {
      "cell_type": "code",
      "execution_count": null,
      "metadata": {
        "colab": {
          "base_uri": "https://localhost:8080/"
        },
        "id": "6EP7aZbsGFGV",
        "outputId": "300d5af1-2e26-453d-e1df-1d09f7a583b1"
      },
      "outputs": [
        {
          "output_type": "stream",
          "name": "stdout",
          "text": [
            "Enter your PIN: 1234\n",
            "PIN accepted. Access granted.\n",
            "\n",
            "ATM Menu:\n",
            "1. Display Balance\n",
            "2. Deposit Money\n",
            "3. Withdraw Money\n",
            "4. Exit\n",
            "Enter your choice (1/2/3/4): 3\n",
            "Enter the amount you want to withdraw: $500\n",
            "You've withdrawn $500.00. Your new balance is $500.00\n",
            "\n",
            "ATM Menu:\n",
            "1. Display Balance\n",
            "2. Deposit Money\n",
            "3. Withdraw Money\n",
            "4. Exit\n",
            "Enter your choice (1/2/3/4): 4\n",
            "Exiting the ATM. Thank you!\n"
          ]
        }
      ],
      "source": [
        "# Define the PIN (You can change this to your desired PIN)\n",
        "correct_pin = \"1234\"\n",
        "\n",
        "# Function to display account balance\n",
        "def display_balance(balance):\n",
        "    print(f\"Your account balance is ${balance:.2f}\")\n",
        "\n",
        "# Function to deposit money\n",
        "def deposit_money(balance):\n",
        "    deposit_amount = float(input(\"Enter the amount you want to deposit: $\"))\n",
        "    if deposit_amount > 0:\n",
        "        balance += deposit_amount\n",
        "        print(f\"You've deposited ${deposit_amount:.2f}. Your new balance is ${balance:.2f}\")\n",
        "    else:\n",
        "        print(\"Invalid deposit amount.\")\n",
        "\n",
        "# Function to withdraw money\n",
        "def withdraw_money(balance):\n",
        "    withdraw_amount = float(input(\"Enter the amount you want to withdraw: $\"))\n",
        "    if withdraw_amount > 0 and withdraw_amount <= balance:\n",
        "        balance -= withdraw_amount\n",
        "        print(f\"You've withdrawn ${withdraw_amount:.2f}. Your new balance is ${balance:.2f}\")\n",
        "    elif withdraw_amount > balance:\n",
        "        print(\"Insufficient funds.\")\n",
        "    else:\n",
        "        print(\"Invalid withdraw amount.\")\n",
        "\n",
        "# ATM Menu\n",
        "def atm_menu():\n",
        "    balance = 1000  # Starting account balance (you can set your own value)\n",
        "\n",
        "    while True:\n",
        "        print(\"\\nATM Menu:\")\n",
        "        print(\"1. Display Balance\")\n",
        "        print(\"2. Deposit Money\")\n",
        "        print(\"3. Withdraw Money\")\n",
        "        print(\"4. Exit\")\n",
        "\n",
        "        option = input(\"Enter your choice (1/2/3/4): \")\n",
        "\n",
        "        if option == \"1\":\n",
        "            display_balance(balance)\n",
        "        elif option == \"2\":\n",
        "            deposit_money(balance)\n",
        "        elif option == \"3\":\n",
        "            withdraw_money(balance)\n",
        "        elif option == \"4\":\n",
        "            print(\"Exiting the ATM. Thank you!\")\n",
        "            break\n",
        "        else:\n",
        "            print(\"Invalid choice. Please select a valid option.\")\n",
        "\n",
        "# Optional PIN verification\n",
        "pin_attempts = 3\n",
        "while pin_attempts > 0:\n",
        "    entered_pin = input(\"Enter your PIN: \")\n",
        "    if entered_pin == correct_pin:\n",
        "        print(\"PIN accepted. Access granted.\")\n",
        "        atm_menu()\n",
        "        break\n",
        "    else:\n",
        "        print(\"Incorrect PIN. Please try again.\")\n",
        "        pin_attempts -= 3\n",
        "else:\n",
        "    print(\"Too many incorrect attempts. ATM card blocked.\")\n"
      ]
    }
  ]
}