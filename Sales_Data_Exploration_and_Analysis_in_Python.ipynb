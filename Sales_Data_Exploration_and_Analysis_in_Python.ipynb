{
  "nbformat": 4,
  "nbformat_minor": 0,
  "metadata": {
    "colab": {
      "provenance": [],
      "authorship_tag": "ABX9TyNVru5ej3Sxvo2AzkK8eH0W",
      "include_colab_link": true
    },
    "kernelspec": {
      "name": "python3",
      "display_name": "Python 3"
    },
    "language_info": {
      "name": "python"
    }
  },
  "cells": [
    {
      "cell_type": "markdown",
      "metadata": {
        "id": "view-in-github",
        "colab_type": "text"
      },
      "source": [
        "<a href=\"https://colab.research.google.com/github/OnurMtl/VirtualATM/blob/main/Sales_Data_Exploration_and_Analysis_in_Python.ipynb\" target=\"_parent\"><img src=\"https://colab.research.google.com/assets/colab-badge.svg\" alt=\"Open In Colab\"/></a>"
      ]
    },
    {
      "cell_type": "code",
      "execution_count": 1,
      "metadata": {
        "id": "RnNgic8yTiOP"
      },
      "outputs": [],
      "source": [
        "import pandas as pd\n",
        "import matplotlib.pyplot as plt"
      ]
    },
    {
      "cell_type": "code",
      "source": [
        "# Step 1: Data Loading\n",
        "data = pd.read_csv('sample_data.csv')"
      ],
      "metadata": {
        "id": "i7QGcDp7TuGi"
      },
      "execution_count": 7,
      "outputs": []
    },
    {
      "cell_type": "code",
      "source": [
        "# Step 2: Data Cleaning\n",
        "data = data.dropna()  # Dropping missing values\n",
        "# Adjust types if necessary"
      ],
      "metadata": {
        "id": "LiNo_fRcTuOG"
      },
      "execution_count": 8,
      "outputs": []
    },
    {
      "cell_type": "code",
      "source": [
        "# Step 3: Data Manipulation\n",
        "# Examples: sorting, filtering, aggregating\n",
        "# sorted_data = data.sort_values(by='column_name')\n",
        "# filtered_data = data[data['column_name'] > some_value]\n",
        "# aggregated_data = data.groupby('category_column').mean()"
      ],
      "metadata": {
        "id": "TmEKCwX8TugA"
      },
      "execution_count": 9,
      "outputs": []
    },
    {
      "cell_type": "code",
      "source": [
        "# Step 4: Data Visualization\n",
        "# Example: Histogram of Sales\n",
        "plt.figure(figsize=(10, 6))\n",
        "plt.hist(data['Sales'], bins=20, color='blue')\n",
        "plt.title('Histogram of Sales')\n",
        "plt.xlabel('Sales')\n",
        "plt.ylabel('Frequency')\n",
        "plt.show()"
      ],
      "metadata": {
        "id": "W1_TEbSBTuiE"
      },
      "execution_count": null,
      "outputs": []
    },
    {
      "cell_type": "code",
      "source": [
        "# Step 5: Statistical Analysis\n",
        "mean_sales = data['Sales'].mean()\n",
        "median_sales = data['Sales'].median()\n",
        "std_sales = data['Sales'].std()"
      ],
      "metadata": {
        "id": "7ilyFsUzUQvw"
      },
      "execution_count": 12,
      "outputs": []
    },
    {
      "cell_type": "code",
      "source": [
        "# Print results\n",
        "print(f\"Mean Sales: {mean_sales}, Median Sales: {median_sales}, Standard Deviation: {std_sales}\")\n"
      ],
      "metadata": {
        "id": "d_4I8_1MUXIQ"
      },
      "execution_count": null,
      "outputs": []
    }
  ]
}